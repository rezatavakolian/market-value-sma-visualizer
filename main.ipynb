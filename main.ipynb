{
 "cells": [
  {
   "cell_type": "code",
   "execution_count": 1,
   "id": "a97ee7e3",
   "metadata": {},
   "outputs": [],
   "source": [
    "import requests\n",
    "import pandas as pd\n",
    "import seaborn as sns\n",
    "import matplotlib.pyplot as plt\n",
    "from persiantools.jdatetime import JalaliDate"
   ]
  },
  {
   "cell_type": "code",
   "execution_count": 2,
   "id": "24d6fa42",
   "metadata": {},
   "outputs": [],
   "source": [
    "BOURS_API = \"https://cdn.tsetmc.com/api/MarketData/GetMarketValueByFlow/1/9999\"\n",
    "FARABOURS_API = \"https://cdn.tsetmc.com/api/MarketData/GetMarketValueByFlow/2/9999\""
   ]
  },
  {
   "cell_type": "code",
   "execution_count": null,
   "id": "edb23bb5",
   "metadata": {},
   "outputs": [],
   "source": [
    "def make_df(api_url):\n",
    "    json_data = requests.get(api_url).json()\n",
    "    dates = [item[\"deven\"] for item in json_data[\"marketValue\"]]\n",
    "    market_values = [item[\"marketCap\"] for item in json_data[\"marketValue\"]]\n",
    "\n",
    "    df = pd.DataFrame({\n",
    "    \"date\": pd.to_datetime(dates, format=\"%Y%m%d\"),\n",
    "    \"market_value\": market_values,\n",
    "    }).sort_values(\"date\").reset_index(drop=True)\n",
    "    \n",
    "    df[\"date\"] = df[\"date\"].apply(\n",
    "        lambda x: JalaliDate.to_jalali(x).strftime(\"%Y-%m-%d\"))\n",
    "    \n",
    "    return df\n",
    "\n",
    "def sma_and_bullish_cross(api_url):\n",
    "    df = make_df(api_url)\n",
    "    \n",
    "    df[\"mv20\"] = df[\"market_value\"].rolling(20).mean()    # 20-day moving average\n",
    "    df[\"mv60\"] = df[\"market_value\"].rolling(60).mean()    # 60-day moving average\n",
    "    df[\"mv240\"] = df[\"market_value\"].rolling(240).mean()  # 240-day moving average\n",
    "    \n",
    "    df = df.dropna()\n",
    "    df[\"bullish_cross\"] = (\n",
    "    (df[\"mv20\"] > df[\"mv60\"]) &\n",
    "    (df[\"mv20\"].shift(1) <= df[\"mv60\"].shift(1)))\n",
    "    \n",
    "    return df"
   ]
  }
 ],
 "metadata": {
  "kernelspec": {
   "display_name": "Python 3",
   "language": "python",
   "name": "python3"
  },
  "language_info": {
   "codemirror_mode": {
    "name": "ipython",
    "version": 3
   },
   "file_extension": ".py",
   "mimetype": "text/x-python",
   "name": "python",
   "nbconvert_exporter": "python",
   "pygments_lexer": "ipython3",
   "version": "3.13.5"
  }
 },
 "nbformat": 4,
 "nbformat_minor": 5
}
